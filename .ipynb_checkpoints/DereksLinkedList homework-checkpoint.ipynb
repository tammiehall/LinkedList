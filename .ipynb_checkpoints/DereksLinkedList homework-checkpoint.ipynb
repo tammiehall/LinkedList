{
 "cells": [
  {
   "cell_type": "code",
   "execution_count": null,
   "id": "5887b68a",
   "metadata": {},
   "outputs": [],
   "source": [
    "# Exercise: Tweak the LinkedList data structure so that the first Node's \n",
    "# previous Node is the last Node in the LinkedList and the last Node's next Node \n",
    "# is the first Node in the LinkedList\n",
    "\n",
    "# TL;DR\n",
    "# Make a circular LinkedList"
   ]
  },
  {
   "cell_type": "code",
   "execution_count": 67,
   "id": "2f5ad1fc",
   "metadata": {},
   "outputs": [],
   "source": [
    "class Node:\n",
    "    def __init__(self, value, next_node=None):\n",
    "        self.value = value\n",
    "        self.next_node = next_node\n",
    "        \n",
    "    # GETTERS AND SETTERS\n",
    "    def get_next_node(self):\n",
    "        return self.next_node\n",
    "    \n",
    "    def set_next_node(self, node):\n",
    "        self.next_node = node\n",
    "    \n",
    "    def get_value(self):\n",
    "        return self.value\n",
    "    \n",
    "    def set_value(self, val):\n",
    "        self.value = val\n",
    "        \n",
    "    def __repr__(self):\n",
    "        return f\"<Node: {self.value}>\"\n",
    "\n",
    "class LinkedList:\n",
    "    def __init__(self, root=None):\n",
    "        self.root = root\n",
    "        self.size = 0\n",
    "        \n",
    "    def get_size(self):\n",
    "        return self.size\n",
    "    \n",
    "    # If we need to add a new Node to the LinkedList, we will instantiate a new Node first by passing\n",
    "    # it a value and setting the new root attribute equal to the location of the new Node (the beginning) \n",
    "    def add(self, node_value):\n",
    "        new_node = Node(node_value, self.root)\n",
    "        self.root = new_node\n",
    "        self.size += 1\n",
    "    \n",
    "    def remove(self, node_value):\n",
    "        this_node = self.root # create a starting point to start looping\n",
    "        prev_node = None\n",
    "        while this_node:\n",
    "            if this_node.get_value() == node_value: # if the number we're looking for is gounf\n",
    "                if prev_node:\n",
    "                    # remove the current Node and rearrange the order of the surrounding Nodes\n",
    "                    # Example: [12, 14, 83, 64, 45, 61]\n",
    "                        # if we remove 83\n",
    "                        # [12, 14, None, 64, 45, 61]\n",
    "                        # We remove the Node, but the reference to the empty index still exists\n",
    "                    prev_node.set_next_node(this_node.get_next_node()) # Reset the order of the \"indeces\" after the deleted Node\n",
    "                else:\n",
    "                    # Other if the number we're looking for was found at the first \"index\", remove the Node that we're looking for and reset the \"indeces\"\n",
    "                    self.root = this_node\n",
    "                self.size -= 1 # Decrement the size attribute by 1\n",
    "                return True\n",
    "            else:\n",
    "                prev_node = this_node\n",
    "                this_node = this_node.get_next_node()\n",
    "        return False  # not an error. Just means it wasn't found\n",
    "    \n",
    "    def find(self, node_value):\n",
    "        this_node = self.root\n",
    "        while this_node:\n",
    "            if this_node.get_value() == node_value:\n",
    "                return node_value\n",
    "            else:\n",
    "                this_node = this_node.get_next_node()\n",
    "        return None # not an error. Just means it wasn't found"
   ]
  },
  {
   "cell_type": "code",
   "execution_count": 68,
   "id": "6390d788",
   "metadata": {},
   "outputs": [],
   "source": [
    "# [<Node: 5>, <Node: 6>, <Node: 99> <Node: 34> <Node: 55>]\n",
    "# []\n",
    "# len()"
   ]
  },
  {
   "cell_type": "code",
   "execution_count": 69,
   "id": "4926ffaf",
   "metadata": {},
   "outputs": [],
   "source": [
    "# n = Node(6)"
   ]
  },
  {
   "cell_type": "code",
   "execution_count": 70,
   "id": "bd5b0d7e",
   "metadata": {},
   "outputs": [],
   "source": [
    "# n.get_next_node()"
   ]
  },
  {
   "cell_type": "code",
   "execution_count": 79,
   "id": "575b312c",
   "metadata": {},
   "outputs": [
    {
     "data": {
      "text/plain": [
       "0"
      ]
     },
     "execution_count": 79,
     "metadata": {},
     "output_type": "execute_result"
    }
   ],
   "source": [
    "ll = LinkedList()\n",
    "ll.get_size()"
   ]
  },
  {
   "cell_type": "code",
   "execution_count": 80,
   "id": "d5773835",
   "metadata": {},
   "outputs": [
    {
     "data": {
      "text/plain": [
       "99"
      ]
     },
     "execution_count": 80,
     "metadata": {},
     "output_type": "execute_result"
    }
   ],
   "source": [
    "ll.add(8)\n",
    "ll.add(5)\n",
    "ll.add(99)\n",
    "ll.add(34)\n",
    "ll.add(21)\n",
    "ll.get_size()\n",
    "ll.find(99)"
   ]
  },
  {
   "cell_type": "code",
   "execution_count": 81,
   "id": "898d3095",
   "metadata": {},
   "outputs": [],
   "source": [
    "ll.find(100)"
   ]
  },
  {
   "cell_type": "code",
   "execution_count": 82,
   "id": "4d70e1f2",
   "metadata": {},
   "outputs": [
    {
     "data": {
      "text/plain": [
       "4"
      ]
     },
     "execution_count": 82,
     "metadata": {},
     "output_type": "execute_result"
    }
   ],
   "source": [
    "ll.remove(99)\n",
    "ll.get_size()"
   ]
  },
  {
   "cell_type": "code",
   "execution_count": 83,
   "id": "8cc64b98",
   "metadata": {},
   "outputs": [],
   "source": [
    "ll.find(99)"
   ]
  },
  {
   "cell_type": "code",
   "execution_count": null,
   "id": "08556697",
   "metadata": {},
   "outputs": [],
   "source": []
  },
  {
   "cell_type": "code",
   "execution_count": null,
   "id": "72132370",
   "metadata": {},
   "outputs": [],
   "source": [
    "# [<Node: 5>, <Node: 6>, <Node: 99>, <Node: 34> <Node: 55>]"
   ]
  }
 ],
 "metadata": {
  "kernelspec": {
   "display_name": "Python 3 (ipykernel)",
   "language": "python",
   "name": "python3"
  },
  "language_info": {
   "codemirror_mode": {
    "name": "ipython",
    "version": 3
   },
   "file_extension": ".py",
   "mimetype": "text/x-python",
   "name": "python",
   "nbconvert_exporter": "python",
   "pygments_lexer": "ipython3",
   "version": "3.9.7"
  }
 },
 "nbformat": 4,
 "nbformat_minor": 5
}
