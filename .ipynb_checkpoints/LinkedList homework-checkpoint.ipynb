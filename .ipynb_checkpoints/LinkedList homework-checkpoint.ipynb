{
 "cells": [
  {
   "cell_type": "code",
   "execution_count": 1,
   "id": "5887b68a",
   "metadata": {},
   "outputs": [],
   "source": [
    "# Exercise: Tweak the LinkedList data structure so that the first Node's \n",
    "# previous Node is the last Node in the LinkedList and the last Node's next Node \n",
    "# is the first Node in the LinkedList\n",
    "\n",
    "# TL;DR\n",
    "# Make a circular LinkedList"
   ]
  },
  {
   "cell_type": "code",
   "execution_count": 7,
   "id": "19f4dc9c",
   "metadata": {},
   "outputs": [],
   "source": [
    "import pandas as pd"
   ]
  },
  {
   "cell_type": "code",
   "execution_count": 22,
   "id": "2f5ad1fc",
   "metadata": {},
   "outputs": [],
   "source": [
    "class Node:\n",
    "    def __init__(self, value, next_node=None):\n",
    "        self.value = value\n",
    "        self.next_node = next_node\n",
    "        \n",
    "    # GETTERS AND SETTERS\n",
    "    def get_next_node(self):\n",
    "        return self.next_node\n",
    "    \n",
    "    def set_next_node(self, node):\n",
    "        self.next_node = node\n",
    "    \n",
    "    def get_value(self):\n",
    "        return self.value\n",
    "    \n",
    "    def set_value(self, val):\n",
    "        self.value = val\n",
    "        \n",
    "    def __repr__(self):\n",
    "        return f\"<Node: {self.value}>\"\n",
    "    \n",
    "#     def push(head, value):\n",
    "#         if not head:\n",
    "#             return Node(value)\n",
    "        \n",
    "#         new_node = Node(value)\n",
    "#         get_next_node = head\n",
    "#         head = new_node\n",
    "#         return head\n",
    "    \n",
    "#     def circular(head):\n",
    "#         start = head\n",
    "#         while(head.next is not None):\n",
    "#             head = head.next\n",
    "        \n",
    "#         head.next = start\n",
    "#         return start\n",
    "\n",
    "class LinkedList:\n",
    "    def __init__(self, root=None):\n",
    "        self.root = root\n",
    "        self.size = 0\n",
    "        \n",
    "    def get_size(self):\n",
    "        return self.size\n",
    "    \n",
    "    # If we need to add a new Node to the LinkedList, we will instantiate a new Node first by passing\n",
    "    # it a value and setting the new root attribute equal to the location of the new Node (the beginning) \n",
    "    def add(self, node_value):\n",
    "        if self.get_size() == 0:\n",
    "            self.root = Node(node_value)\n",
    "            self.root.set_next_node(self.root)\n",
    "        else:\n",
    "            new_node = Node (node_value, self.root.get_next_node())\n",
    "            self.root.set_next_node(new_node)\n",
    "        self.size += 1\n",
    "    \n",
    "    def remove(self, node_value):\n",
    "        this_node = self.root # create a starting point to start looping\n",
    "        prev_node = None\n",
    "        while True:\n",
    "            if this_node.get_value() == node_value: # if the number we're looking for is gounf\n",
    "                if prev_node is not None:\n",
    "                    # remove the current Node and rearrange the order of the surrounding Nodes\n",
    "                    # Example: [12, 14, 83, 64, 45, 61]\n",
    "                        # if we remove 83\n",
    "                        # [12, 14, None, 64, 45, 61]\n",
    "                        # We remove the Node, but the reference to the empty index still exists\n",
    "                    prev_node.set_next_node(this_node.get_next_node()) # Reset the order of the \"indeces\" after the deleted Node\n",
    "                else:\n",
    "                    while this_node.get_next_node() != self.root:\n",
    "                        this_node = this_node.get_next()\n",
    "                    # Other if the number we're looking for was found at the first \"index\", remove the Node that we're looking for and reset the \"indeces\"\n",
    "                    this_node.set_next_node(self.root.get_next_node())\n",
    "                    self.root = self.root.get_next_node()\n",
    "                self.size -= 1 # Decrement the size attribute by 1\n",
    "                return True\n",
    "            elif this_node.get_next_node() == self.root:\n",
    "                return False\n",
    "            prev_node = this_node\n",
    "            this_node = this_node.get_next_node()\n",
    "#         return False  # not an error. Just means it wasn't found\n",
    "    \n",
    "    def find(self, node_value):\n",
    "        this_node = self.root\n",
    "        while True:\n",
    "            if this_node.get_value() == node_value:\n",
    "                return node_value\n",
    "            elif this_node.get_next_node() == self.root:\n",
    "                return False\n",
    "                this_node = this_node.get_next_node()\n",
    "#         return None # not an error. Just means it wasn't found\n",
    "    \n",
    "    def print_list(self):\n",
    "        print (\"Print List....\")\n",
    "        if self.root is None:\n",
    "            return\n",
    "        this_node = self.root\n",
    "#         print(this_node.to_string())\n",
    "        while this_node.get_next_node() != self.root:\n",
    "            this_node = this_node.get_next_node()\n",
    "            print(this_node.to_string())\n"
   ]
  },
  {
   "cell_type": "code",
   "execution_count": 3,
   "id": "6390d788",
   "metadata": {},
   "outputs": [],
   "source": [
    "# [<Node: 5>, <Node: 6>, <Node: 99> <Node: 34> <Node: 55>]\n",
    "# []\n",
    "# len()"
   ]
  },
  {
   "cell_type": "code",
   "execution_count": 4,
   "id": "4926ffaf",
   "metadata": {},
   "outputs": [],
   "source": [
    "# n = Node(6)"
   ]
  },
  {
   "cell_type": "code",
   "execution_count": 5,
   "id": "bd5b0d7e",
   "metadata": {},
   "outputs": [],
   "source": [
    "# n.get_next_node()"
   ]
  },
  {
   "cell_type": "code",
   "execution_count": 23,
   "id": "575b312c",
   "metadata": {},
   "outputs": [
    {
     "data": {
      "text/plain": [
       "0"
      ]
     },
     "execution_count": 23,
     "metadata": {},
     "output_type": "execute_result"
    }
   ],
   "source": [
    "ll = LinkedList()\n",
    "ll.get_size()"
   ]
  },
  {
   "cell_type": "code",
   "execution_count": null,
   "id": "d5773835",
   "metadata": {},
   "outputs": [],
   "source": [
    "# ll.add(8)\n",
    "# ll.head = first\n",
    "# first.next = ll.head\n",
    "\n",
    "# second = Node(5)\n",
    "# first.next = second\n",
    "# second.next = ll\n",
    "\n",
    "# third = Node(99)\n",
    "# second.next = third\n",
    "# third.next = ll\n",
    "\n",
    "# fourth = Node(34)\n",
    "# third.next = fourth\n",
    "# fourth.next = ll\n",
    "\n",
    "# fifth = Node(21)\n",
    "# fourth.next = fifth\n",
    "# fifth.next = ll\n",
    "\n",
    "# # ll.get_size()\n",
    "# ll.find(99)"
   ]
  },
  {
   "cell_type": "code",
   "execution_count": 24,
   "id": "da615197",
   "metadata": {},
   "outputs": [],
   "source": [
    "ll.add(8)\n",
    "ll.add(5)\n",
    "ll.add(99)\n",
    "ll.add(34)\n",
    "ll.add(21)\n",
    "# ll.get_size()\n",
    "# ll.find(99)()"
   ]
  },
  {
   "cell_type": "code",
   "execution_count": 25,
   "id": "76e3d354",
   "metadata": {},
   "outputs": [
    {
     "name": "stdout",
     "output_type": "stream",
     "text": [
      "Print List....\n"
     ]
    },
    {
     "ename": "AttributeError",
     "evalue": "'Node' object has no attribute 'to_string'",
     "output_type": "error",
     "traceback": [
      "\u001b[1;31m---------------------------------------------------------------------------\u001b[0m",
      "\u001b[1;31mAttributeError\u001b[0m                            Traceback (most recent call last)",
      "\u001b[1;32m~\\AppData\\Local\\Temp/ipykernel_286644/67135707.py\u001b[0m in \u001b[0;36m<module>\u001b[1;34m\u001b[0m\n\u001b[1;32m----> 1\u001b[1;33m \u001b[0mll\u001b[0m\u001b[1;33m.\u001b[0m\u001b[0mprint_list\u001b[0m\u001b[1;33m(\u001b[0m\u001b[1;33m)\u001b[0m\u001b[1;33m\u001b[0m\u001b[1;33m\u001b[0m\u001b[0m\n\u001b[0m",
      "\u001b[1;32m~\\AppData\\Local\\Temp/ipykernel_286644/2285012516.py\u001b[0m in \u001b[0;36mprint_list\u001b[1;34m(self)\u001b[0m\n\u001b[0;32m    100\u001b[0m         \u001b[1;32mwhile\u001b[0m \u001b[0mthis_node\u001b[0m\u001b[1;33m.\u001b[0m\u001b[0mget_next_node\u001b[0m\u001b[1;33m(\u001b[0m\u001b[1;33m)\u001b[0m \u001b[1;33m!=\u001b[0m \u001b[0mself\u001b[0m\u001b[1;33m.\u001b[0m\u001b[0mroot\u001b[0m\u001b[1;33m:\u001b[0m\u001b[1;33m\u001b[0m\u001b[1;33m\u001b[0m\u001b[0m\n\u001b[0;32m    101\u001b[0m             \u001b[0mthis_node\u001b[0m \u001b[1;33m=\u001b[0m \u001b[0mthis_node\u001b[0m\u001b[1;33m.\u001b[0m\u001b[0mget_next_node\u001b[0m\u001b[1;33m(\u001b[0m\u001b[1;33m)\u001b[0m\u001b[1;33m\u001b[0m\u001b[1;33m\u001b[0m\u001b[0m\n\u001b[1;32m--> 102\u001b[1;33m             \u001b[0mprint\u001b[0m\u001b[1;33m(\u001b[0m\u001b[0mthis_node\u001b[0m\u001b[1;33m.\u001b[0m\u001b[0mto_string\u001b[0m\u001b[1;33m)\u001b[0m\u001b[1;33m\u001b[0m\u001b[1;33m\u001b[0m\u001b[0m\n\u001b[0m",
      "\u001b[1;31mAttributeError\u001b[0m: 'Node' object has no attribute 'to_string'"
     ]
    }
   ],
   "source": [
    "ll.print_list()"
   ]
  },
  {
   "cell_type": "code",
   "execution_count": null,
   "id": "898d3095",
   "metadata": {},
   "outputs": [],
   "source": [
    "# ll.find(100)"
   ]
  },
  {
   "cell_type": "code",
   "execution_count": null,
   "id": "4d70e1f2",
   "metadata": {},
   "outputs": [],
   "source": [
    "# ll.remove(99)\n",
    "# ll.get_size()"
   ]
  },
  {
   "cell_type": "code",
   "execution_count": null,
   "id": "8cc64b98",
   "metadata": {},
   "outputs": [],
   "source": [
    "# ll.find(99)"
   ]
  },
  {
   "cell_type": "code",
   "execution_count": null,
   "id": "72132370",
   "metadata": {},
   "outputs": [],
   "source": [
    "# [<Node: 5>, <Node: 6>, <Node: 99>, <Node: 34> <Node: 55>]"
   ]
  }
 ],
 "metadata": {
  "kernelspec": {
   "display_name": "Python 3 (ipykernel)",
   "language": "python",
   "name": "python3"
  },
  "language_info": {
   "codemirror_mode": {
    "name": "ipython",
    "version": 3
   },
   "file_extension": ".py",
   "mimetype": "text/x-python",
   "name": "python",
   "nbconvert_exporter": "python",
   "pygments_lexer": "ipython3",
   "version": "3.9.7"
  }
 },
 "nbformat": 4,
 "nbformat_minor": 5
}
